{
 "cells": [
  {
   "cell_type": "markdown",
   "id": "69a0c1d8",
   "metadata": {},
   "source": [
    "# Build Basic Chatbot"
   ]
  },
  {
   "cell_type": "code",
   "execution_count": 2,
   "id": "431cbf4d",
   "metadata": {},
   "outputs": [],
   "source": [
    "from typing import Annotated\n",
    "from typing_extensions import TypedDict\n",
    "\n",
    "from langgraph.graph import StateGraph, START, END\n",
    "from langgraph.graph.message import add_messages"
   ]
  },
  {
   "cell_type": "code",
   "execution_count": 3,
   "id": "c256cd83",
   "metadata": {},
   "outputs": [],
   "source": [
    "class State(TypedDict):\n",
    "    messages: Annotated[list, add_messages]\n",
    "\n",
    "graph_builder = StateGraph(State)"
   ]
  },
  {
   "cell_type": "code",
   "execution_count": 23,
   "id": "0178e592",
   "metadata": {},
   "outputs": [
    {
     "data": {
      "text/plain": [
       "True"
      ]
     },
     "execution_count": 23,
     "metadata": {},
     "output_type": "execute_result"
    }
   ],
   "source": [
    "import os\n",
    "from dotenv import load_dotenv\n",
    "load_dotenv()"
   ]
  },
  {
   "cell_type": "code",
   "execution_count": 6,
   "id": "9ca0dd44",
   "metadata": {},
   "outputs": [],
   "source": [
    "from langchain_groq import ChatGroq\n",
    "from langchain.chat_models import init_chat_model\n",
    "\n",
    "llm = ChatGroq(model = \"qwen/qwen3-32b\")"
   ]
  },
  {
   "cell_type": "code",
   "execution_count": 9,
   "id": "7e2e7fb7",
   "metadata": {},
   "outputs": [],
   "source": [
    "## Node Functionality\n",
    "def chatbot(state: State):\n",
    "    return {\"messages\":[llm.invoke(state[\"messages\"])]}"
   ]
  },
  {
   "cell_type": "code",
   "execution_count": 10,
   "id": "8e7e87b1",
   "metadata": {},
   "outputs": [],
   "source": [
    "graph_builder = StateGraph(State)\n",
    "graph_builder.add_node(\"llmchatbot\", chatbot)\n",
    "\n",
    "graph_builder.add_edge(START, \"llmchatbot\")\n",
    "graph_builder.add_edge(\"llmchatbot\", END)\n",
    "\n",
    "##compile\n",
    "graph = graph_builder.compile()"
   ]
  },
  {
   "cell_type": "code",
   "execution_count": 13,
   "id": "b74a47d6",
   "metadata": {},
   "outputs": [
    {
     "data": {
      "image/png": "[encoded data removed]",
      "text/plain": [
       "<IPython.core.display.Image object>"
      ]
     },
     "metadata": {},
     "output_type": "display_data"
    }
   ],
   "source": [
    "## Visualize the graph\n",
    "from IPython.display import Image, display\n",
    "\n",
    "try:\n",
    "    display(Image(graph.get_graph().draw_mermaid_png()))\n",
    "except Exception:\n",
    "    pass"
   ]
  },
  {
   "cell_type": "code",
   "execution_count": 15,
   "id": "7fee3b4f",
   "metadata": {},
   "outputs": [],
   "source": [
    "response = graph.invoke({\"messages\": \"Hi\"})"
   ]
  },
  {
   "cell_type": "code",
   "execution_count": 17,
   "id": "1d4b9298",
   "metadata": {},
   "outputs": [
    {
     "data": {
      "text/plain": [
       "'<think>\\nOkay, the user said \"Hi\". I need to respond appropriately. Since it\\'s a greeting, I should start with a friendly greeting of my own. Let me make sure to use an emoji to keep it warm and approachable. I should also offer assistance, so the user knows I\\'m here to help if they need anything. Let me check for any typos and keep the tone positive. Alright, that should cover it.\\n</think>\\n\\nHi! 😊 How can I assist you today? Let me know if you have any questions or need help with anything!'"
      ]
     },
     "execution_count": 17,
     "metadata": {},
     "output_type": "execute_result"
    }
   ],
   "source": [
    "response[\"messages\"][-1].content"
   ]
  },
  {
   "cell_type": "code",
   "execution_count": 19,
   "id": "6f813771",
   "metadata": {},
   "outputs": [
    {
     "name": "stdout",
     "output_type": "stream",
     "text": [
      "{'messages': [AIMessage(content=\"<think>\\nOkay, the user is asking how I am. I need to respond in a friendly and open way. Since I'm an AI, I don't have emotions, but I can mention that I'm here and ready to help. Keep it casual and invite them to ask anything. Make sure the tone is warm and approachable.\\n</think>\\n\\nI'm just a pile of code, but I'm here and ready to help! 😊 How can I assist you today?\", additional_kwargs={}, response_metadata={'token_usage': {'completion_tokens': 97, 'prompt_tokens': 13, 'total_tokens': 110, 'completion_time': 0.296292351, 'prompt_time': 0.105053245, 'queue_time': 0.045096035, 'total_time': 0.401345596}, 'model_name': 'qwen/qwen3-32b', 'system_fingerprint': 'fp_5cf921caa2', 'service_tier': 'on_demand', 'finish_reason': 'stop', 'logprobs': None}, id='run--04e3ab12-8d9e-4282-a16e-62c44fb341ca-0', usage_metadata={'input_tokens': 13, 'output_tokens': 97, 'total_tokens': 110})]}\n"
     ]
    }
   ],
   "source": [
    "for event in graph.stream({\"messages\": \"Hi How are you?\"}):\n",
    "    # print(event)\n",
    "    for value in event.values():\n",
    "        print(value)"
   ]
  },
  {
   "cell_type": "markdown",
   "id": "103433b5",
   "metadata": {},
   "source": [
    "# Chatbot With Tool"
   ]
  },
  {
   "cell_type": "code",
   "execution_count": 24,
   "id": "353d3a9d",
   "metadata": {},
   "outputs": [
    {
     "data": {
      "text/plain": [
       "{'query': 'What is langgraph',\n",
       " 'follow_up_questions': None,\n",
       " 'answer': None,\n",
       " 'images': [],\n",
       " 'results': [{'url': 'https://www.datacamp.com/tutorial/langgraph-tutorial',\n",
       "   'title': 'LangGraph Tutorial: What Is LangGraph and How to Use It?',\n",
       "   'content': 'LangGraph is a library within the LangChain ecosystem that provides a framework for defining, coordinating, and executing multiple LLM agents (or chains) in a structured and efficient manner. By managing the flow of data and the sequence of operations, LangGraph allows developers to focus on the high-level logic of their applications rather than the intricacies of agent coordination. Whether you need a chatbot that can handle various types of user requests or a multi-agent system that performs complex tasks, LangGraph provides the tools to build exactly what you need. LangGraph significantly simplifies the development of complex LLM applications by providing a structured framework for managing state and coordinating agent interactions.',\n",
       "   'score': 0.9502313,\n",
       "   'raw_content': None},\n",
       "  {'url': 'https://www.ibm.com/think/topics/langgraph',\n",
       "   'title': 'What is LangGraph? - IBM',\n",
       "   'content': 'LangGraph, created by LangChain, is an open source AI agent framework designed to build, deploy and manage complex generative AI agent workflows. At its core, LangGraph uses the power of graph-based architectures to model and manage the intricate relationships between various components of an AI agent workflow. LangGraph illuminates the processes within an AI workflow, allowing full transparency of the agent’s state. By combining these technologies with a set of APIs and tools, LangGraph provides users with a versatile platform for developing AI solutions and workflows including chatbots, state graphs and other agent-based systems. Nodes: In LangGraph, nodes represent individual components or agents within an AI workflow. LangGraph uses enhanced decision-making by modeling complex relationships between nodes, which means it uses AI agents to analyze their past actions and feedback.',\n",
       "   'score': 0.94401723,\n",
       "   'raw_content': None}],\n",
       " 'response_time': 0.95}"
      ]
     },
     "execution_count": 24,
     "metadata": {},
     "output_type": "execute_result"
    }
   ],
   "source": [
    "from langchain_tavily import TavilySearch\n",
    "\n",
    "tool = TavilySearch(max_results=2)\n",
    "tool.invoke(\"What is langgraph\")"
   ]
  },
  {
   "cell_type": "code",
   "execution_count": 31,
   "id": "705b8bb3",
   "metadata": {},
   "outputs": [],
   "source": [
    "def multiply(a: int, b: int) -> int:\n",
    "    '''Multiplies two integers and returns the result.'''\n",
    "    return a * b"
   ]
  },
  {
   "cell_type": "code",
   "execution_count": 33,
   "id": "f1425326",
   "metadata": {},
   "outputs": [],
   "source": [
    "tools = [tool, multiply]"
   ]
  },
  {
   "cell_type": "code",
   "execution_count": 34,
   "id": "5775eeca",
   "metadata": {},
   "outputs": [],
   "source": [
    "llm_with_tools = llm.bind_tools(tools)"
   ]
  },
  {
   "cell_type": "code",
   "execution_count": null,
   "id": "98d14342",
   "metadata": {},
   "outputs": [
    {
     "data": {
      "text/plain": [
       "<langgraph.graph.state.StateGraph at 0x202d63883e0>"
      ]
     },
     "execution_count": 35,
     "metadata": {},
     "output_type": "execute_result"
    }
   ],
   "source": [
    "#StateGraph\n",
    "from langgraph.graph import StateGraph, START, END\n",
    "from langgraph.prebuilt import ToolNode\n",
    "from langgraph.prebuilt import tools_condition\n",
    "\n",
    "def tool_calling_llm(state: State):\n",
    "    return {\"messages\": [llm_with_tools.invoke(state[\"messages\"])]}\n",
    "\n",
    "\n",
    "builder = StateGraph(State)\n",
    "builder.add_node(\"tool_calling_llm\", tool_calling_llm)\n",
    "builder.add_node(\"tools\", ToolNode(tools))\n",
    "\n",
    "builder.add_edge(START, \"tool_calling_llm\")\n",
    "builder.add_conditional_edges(\"tool_calling_llm\", tools_condition)\n",
    "# builder.add_edge(\"tools\", END)\n",
    "builder.add_edge(\"tools\", \"tool_calling_llm\")\n"
   ]
  },
  {
   "cell_type": "code",
   "execution_count": 36,
   "id": "01a27e21",
   "metadata": {},
   "outputs": [
    {
     "data": {
      "image/png": "[encoded data removed]",
      "text/plain": [
       "<IPython.core.display.Image object>"
      ]
     },
     "metadata": {},
     "output_type": "display_data"
    }
   ],
   "source": [
    "graph = builder.compile()\n",
    "display(Image(graph.get_graph().draw_mermaid_png()))"
   ]
  },
  {
   "cell_type": "markdown",
   "id": "80de97fd",
   "metadata": {},
   "source": []
  },
  {
   "cell_type": "code",
   "execution_count": 37,
   "id": "47d6eb41",
   "metadata": {},
   "outputs": [
    {
     "data": {
      "text/plain": [
       "{'messages': [HumanMessage(content='What is the recent ai news', additional_kwargs={}, response_metadata={}, id='51fd82d8-c41d-42b1-a68f-3ae8a6c4a09b'),\n",
       "  AIMessage(content='', additional_kwargs={'reasoning_content': 'Okay, the user is asking for recent AI news. Let me check which tool to use. They mentioned \"recent,\" so I should consider the time_range parameter. The available functions are tavily_search and multiply. Multiply is for math, so tavily_search is the right choice.\\n\\nFor tavily_search, the parameters include time_range, which can be set to \"day,\" \"week,\" \"month,\" or \"year.\" Since the user wants recent news, maybe \"week\" is appropriate to get the latest updates without being too narrow. Also, the topic parameter can be set to \"news\" if it\\'s about current events. Wait, the topic parameter\\'s description says to use \"news\" for politics, sports, or major events covered by mainstream media. AI news might be considered general, so maybe leave topic as \"general\" and use time_range \"week\" instead.\\n\\nSet start_date to filter content from the past week. Let me calculate the start_date. Today is 2023-10-25, so a week ago would be 2023-10-18. But the user might just want the time_range set to \"week\" instead of manually calculating dates. The time_range parameter automatically handles the timeframe. So set time_range to \"week\" to get results from the last 7 days. Also, ensure search_depth is \"advanced\" to get thorough results on AI topics. The query should be \"recent AI news.\" Exclude any domains if necessary, but the user didn\\'t specify any, so leave exclude_domains as default. Include_domains isn\\'t needed here. Include_images might be optional, but since the user didn\\'t ask for images, leave it as default. Favicon isn\\'t necessary unless the user wants visual cues, which they didn\\'t mention. \\n\\nSo the parameters would be query: \"recent AI news\", time_range: \"week\", topic: \"general\", search_depth: \"advanced\". Let me verify the function\\'s required parameters. The only required is \"query\". Time_range is optional, so adding it is okay. The topic is set to \"general\" by default, which is correct here. So the function call would be tavily_search with query \"recent AI news\", time_range \"week\", and search_depth \"advanced\" to ensure comprehensive results.\\n', 'tool_calls': [{'id': '1yjx0d618', 'function': {'arguments': '{\"query\":\"recent AI news\",\"search_depth\":\"advanced\",\"time_range\":\"week\"}', 'name': 'tavily_search'}, 'type': 'function'}]}, response_metadata={'token_usage': {'completion_tokens': 515, 'prompt_tokens': 1812, 'total_tokens': 2327, 'completion_time': 1.525061777, 'prompt_time': 0.267094197, 'queue_time': 0.068140412, 'total_time': 1.792155974}, 'model_name': 'qwen/qwen3-32b', 'system_fingerprint': 'fp_5cf921caa2', 'service_tier': 'on_demand', 'finish_reason': 'tool_calls', 'logprobs': None}, id='run--c580ad5f-dbf6-4641-9619-fb46be4588c8-0', tool_calls=[{'name': 'tavily_search', 'args': {'query': 'recent AI news', 'search_depth': 'advanced', 'time_range': 'week'}, 'id': '1yjx0d618', 'type': 'tool_call'}], usage_metadata={'input_tokens': 1812, 'output_tokens': 515, 'total_tokens': 2327}),\n",
       "  ToolMessage(content='{\"query\": \"recent AI news\", \"follow_up_questions\": null, \"answer\": null, \"images\": [], \"results\": [{\"url\": \"https://www.theguardian.com/technology/2025/aug/05/google-step-artificial-general-intelligence-deepmind-agi\", \"title\": \"Google outlines latest step towards creating artificial ...\", \"content\": \"A robot in a kitchen with a lunch box and some fruit\\\\n\\\\n# Google says its new ‘world model’ could train AI robots in virtual warehouses\\\\n\\\\nGenie 3 is latest step towards human-level artificial general intelligence, tech company claims\\\\n\\\\nGoogle has outlined its latest step towards artificial general intelligence (AGI) with a new model that allows AI systems to interact with a convincing simulation of the real world. [...] The announcement comes amid ever-increasing competition in the AI market. On Sunday Sam Altman, the chief executive of ChatGPT’s developer, OpenAI, shared a screenshotof what appeared to be the company’s latest AI model, GPT-5. [...] “While AIs are trained on vast quantities of internet data, allowing an AI to explore the world physically will add an important dimension to the creation of more powerful and intelligent AIs.”\\\\n\\\\nIn a research note accompanying the Sima announcement last year, Google researchers said world models were important because large language models were effective at tasks such as planning but not at taking action on a human’s behalf.\\\\n\\\\n## More on this story\\\\n\\\\n## More on this story\", \"score\": 0.5504388, \"raw_content\": null}, {\"url\": \"https://medium.com/elevate-tech/ai-gossip-early-august-2025-top-ai-launches-updates-2003ebdb31df\", \"title\": \"✨ AI Gossip - Early August 2025: Top AI Launches & ...\", \"content\": \"Sign up\\\\n\\\\nSign in\\\\n\\\\nSign up\\\\n\\\\nSign in\\\\n\\\\n## Elevate Tech\\\\n\\\\nElevate Tech\\\\n\\\\nIn this blog, we, a group of authors working for Accenture Technology, cover topics like software & platform engineering, AI, cloud, and mainframe modernization. This blog reflects only the personal opinions and views of private individuals, not official corporate communication.\\\\n\\\\n# ✨ AI Gossip - Early August 2025: Top AI Launches & Updates\\\\n\\\\nAlekya Vaka\\\\n\\\\n--\\\\n\\\\nListen\\\\n\\\\nShare\\\\n\\\\nWelcome to AI Gossip! [...] In this second edition, we’re looking at fresh tool launches, inspiring use cases, and the trends you should have on your radar. As part of Accenture’s Gen AI Total Immersion Work stream, I get to explore and drive generative AI adoption at work, and I’m here to break down what’s worth your time and how it could make an impact.\\\\n\\\\nMy favorite picks from the latest AI tools:\\\\n\\\\nUpdates to Familiar Tools:\\\\n\\\\n💡 Top Tips & Tricks: [...] #ArtificialIntelligence #GenAI #AITools #AIUpdates #AIInsights #TechTrends\\\\n\\\\n--\\\\n\\\\n--\\\\n\\\\nElevate Tech\\\\nElevate Tech\\\\n\\\\n## Published in Elevate Tech\\\\n\\\\nIn this blog, we, a group of authors working for Accenture Technology, cover topics like software & platform engineering, AI, cloud, and mainframe modernization. This blog reflects only the personal opinions and views of private individuals, not official corporate communication.\\\\n\\\\nAlekya Vaka\\\\nAlekya Vaka\\\\n\\\\n## Written by Alekya Vaka\", \"score\": 0.49963441, \"raw_content\": null}], \"response_time\": 2.06}', name='tavily_search', id='3e1fd5e1-2a12-41c1-865c-cbc3d3b6ca63', tool_call_id='1yjx0d618')]}"
      ]
     },
     "execution_count": 37,
     "metadata": {},
     "output_type": "execute_result"
    }
   ],
   "source": [
    "graph.invoke({\"messages\": \"What is the recent ai news\"})"
   ]
  },
  {
   "cell_type": "code",
   "execution_count": 38,
   "id": "8388b4fe",
   "metadata": {},
   "outputs": [
    {
     "name": "stdout",
     "output_type": "stream",
     "text": [
      "================================\u001b[1m Human Message \u001b[0m=================================\n",
      "\n",
      "Hi\n",
      "==================================\u001b[1m Ai Message \u001b[0m==================================\n",
      "\n",
      "<think>\n",
      "Okay, the user said \"Hi\". I need to respond appropriately. Since it's a greeting, I should start with a friendly greeting of my own. Let me make sure to use an emoji to keep it warm and approachable. I should also offer assistance, so the user knows I'm here to help if they need anything. Let me check for any typos and keep the tone positive. Alright, that should cover it.\n",
      "</think>\n",
      "\n",
      "Hi! 😊 How can I assist you today? Let me know if you have any questions or need help with anything!\n"
     ]
    }
   ],
   "source": [
    "for m in response['messages']:\n",
    "    m.pretty_print()"
   ]
  },
  {
   "cell_type": "code",
   "execution_count": null,
   "id": "99ae4038",
   "metadata": {},
   "outputs": [],
   "source": []
  }
 ],
 "metadata": {
  "kernelspec": {
   "display_name": "AgenticLanggraph",
   "language": "python",
   "name": "python3"
  },
  "language_info": {
   "codemirror_mode": {
    "name": "ipython",
    "version": 3
   },
   "file_extension": ".py",
   "mimetype": "text/x-python",
   "name": "python",
   "nbconvert_exporter": "python",
   "pygments_lexer": "ipython3",
   "version": "3.12.7"
  }
 },
 "nbformat": 4,
 "nbformat_minor": 5
}
