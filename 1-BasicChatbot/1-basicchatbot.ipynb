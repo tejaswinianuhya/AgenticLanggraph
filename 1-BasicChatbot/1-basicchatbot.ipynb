{
 "cells": [
  {
   "cell_type": "markdown",
   "id": "69a0c1d8",
   "metadata": {},
   "source": [
    "# Build Basic Chatbot"
   ]
  },
  {
   "cell_type": "code",
   "execution_count": 2,
   "id": "431cbf4d",
   "metadata": {},
   "outputs": [],
   "source": [
    "from typing import Annotated\n",
    "from typing_extensions import TypedDict\n",
    "\n",
    "from langgraph.graph import StateGraph, START, END\n",
    "from langgraph.graph.message import add_messages"
   ]
  },
  {
   "cell_type": "code",
   "execution_count": 3,
   "id": "c256cd83",
   "metadata": {},
   "outputs": [],
   "source": [
    "class State(TypedDict):\n",
    "    messages: Annotated[list, add_messages]\n",
    "\n",
    "graph_builder = StateGraph(State)"
   ]
  },
  {
   "cell_type": "code",
   "execution_count": 23,
   "id": "0178e592",
   "metadata": {},
   "outputs": [
    {
     "data": {
      "text/plain": [
       "True"
      ]
     },
     "execution_count": 23,
     "metadata": {},
     "output_type": "execute_result"
    }
   ],
   "source": [
    "import os\n",
    "from dotenv import load_dotenv\n",
    "load_dotenv()"
   ]
  },
  {
   "cell_type": "code",
   "execution_count": 6,
   "id": "9ca0dd44",
   "metadata": {},
   "outputs": [],
   "source": [
    "from langchain_groq import ChatGroq\n",
    "from langchain.chat_models import init_chat_model\n",
    "\n",
    "llm = ChatGroq(model = \"qwen/qwen3-32b\")"
   ]
  },
  {
   "cell_type": "code",
   "execution_count": 9,
   "id": "7e2e7fb7",
   "metadata": {},
   "outputs": [],
   "source": [
    "## Node Functionality\n",
    "def chatbot(state: State):\n",
    "    return {\"messages\":[llm.invoke(state[\"messages\"])]}"
   ]
  },
  {
   "cell_type": "code",
   "execution_count": 10,
   "id": "8e7e87b1",
   "metadata": {},
   "outputs": [],
   "source": [
    "graph_builder = StateGraph(State)\n",
    "graph_builder.add_node(\"llmchatbot\", chatbot)\n",
    "\n",
    "graph_builder.add_edge(START, \"llmchatbot\")\n",
    "graph_builder.add_edge(\"llmchatbot\", END)\n",
    "\n",
    "##compile\n",
    "graph = graph_builder.compile()"
   ]
  },
  {
   "cell_type": "code",
   "execution_count": 13,
   "id": "b74a47d6",
   "metadata": {},
   "outputs": [
    {
     "data": {
      "image/png": "[encoded data removed]",
      "text/plain": [
       "<IPython.core.display.Image object>"
      ]
     },
     "metadata": {},
     "output_type": "display_data"
    }
   ],
   "source": [
    "## Visualize the graph\n",
    "from IPython.display import Image, display\n",
    "\n",
    "try:\n",
    "    display(Image(graph.get_graph().draw_mermaid_png()))\n",
    "except Exception:\n",
    "    pass"
   ]
  },
  {
   "cell_type": "code",
   "execution_count": 15,
   "id": "7fee3b4f",
   "metadata": {},
   "outputs": [],
   "source": [
    "response = graph.invoke({\"messages\": \"Hi\"})"
   ]
  },
  {
   "cell_type": "code",
   "execution_count": 17,
   "id": "1d4b9298",
   "metadata": {},
   "outputs": [
    {
     "data": {
      "text/plain": [
       "'<think>\\nOkay, the user said \"Hi\". I need to respond appropriately. Since it\\'s a greeting, I should start with a friendly greeting of my own. Let me make sure to use an emoji to keep it warm and approachable. I should also offer assistance, so the user knows I\\'m here to help if they need anything. Let me check for any typos and keep the tone positive. Alright, that should cover it.\\n</think>\\n\\nHi! 😊 How can I assist you today? Let me know if you have any questions or need help with anything!'"
      ]
     },
     "execution_count": 17,
     "metadata": {},
     "output_type": "execute_result"
    }
   ],
   "source": [
    "response[\"messages\"][-1].content"
   ]
  },
  {
   "cell_type": "code",
   "execution_count": 19,
   "id": "6f813771",
   "metadata": {},
   "outputs": [
    {
     "name": "stdout",
     "output_type": "stream",
     "text": [
      "{'messages': [AIMessage(content=\"<think>\\nOkay, the user is asking how I am. I need to respond in a friendly and open way. Since I'm an AI, I don't have emotions, but I can mention that I'm here and ready to help. Keep it casual and invite them to ask anything. Make sure the tone is warm and approachable.\\n</think>\\n\\nI'm just a pile of code, but I'm here and ready to help! 😊 How can I assist you today?\", additional_kwargs={}, response_metadata={'token_usage': {'completion_tokens': 97, 'prompt_tokens': 13, 'total_tokens': 110, 'completion_time': 0.296292351, 'prompt_time': 0.105053245, 'queue_time': 0.045096035, 'total_time': 0.401345596}, 'model_name': 'qwen/qwen3-32b', 'system_fingerprint': 'fp_5cf921caa2', 'service_tier': 'on_demand', 'finish_reason': 'stop', 'logprobs': None}, id='run--04e3ab12-8d9e-4282-a16e-62c44fb341ca-0', usage_metadata={'input_tokens': 13, 'output_tokens': 97, 'total_tokens': 110})]}\n"
     ]
    }
   ],
   "source": [
    "for event in graph.stream({\"messages\": \"Hi How are you?\"}):\n",
    "    # print(event)\n",
    "    for value in event.values():\n",
    "        print(value)"
   ]
  },
  {
   "cell_type": "markdown",
   "id": "103433b5",
   "metadata": {},
   "source": [
    "# Chatbot With Tool"
   ]
  },
  {
   "cell_type": "code",
   "execution_count": 24,
   "id": "353d3a9d",
   "metadata": {},
   "outputs": [
    {
     "data": {
      "text/plain": [
       "{'query': 'What is langgraph',\n",
       " 'follow_up_questions': None,\n",
       " 'answer': None,\n",
       " 'images': [],\n",
       " 'results': [{'url': 'https://www.datacamp.com/tutorial/langgraph-tutorial',\n",
       "   'title': 'LangGraph Tutorial: What Is LangGraph and How to Use It?',\n",
       "   'content': 'LangGraph is a library within the LangChain ecosystem that provides a framework for defining, coordinating, and executing multiple LLM agents (or chains) in a structured and efficient manner. By managing the flow of data and the sequence of operations, LangGraph allows developers to focus on the high-level logic of their applications rather than the intricacies of agent coordination. Whether you need a chatbot that can handle various types of user requests or a multi-agent system that performs complex tasks, LangGraph provides the tools to build exactly what you need. LangGraph significantly simplifies the development of complex LLM applications by providing a structured framework for managing state and coordinating agent interactions.',\n",
       "   'score': 0.9502313,\n",
       "   'raw_content': None},\n",
       "  {'url': 'https://www.ibm.com/think/topics/langgraph',\n",
       "   'title': 'What is LangGraph? - IBM',\n",
       "   'content': 'LangGraph, created by LangChain, is an open source AI agent framework designed to build, deploy and manage complex generative AI agent workflows. At its core, LangGraph uses the power of graph-based architectures to model and manage the intricate relationships between various components of an AI agent workflow. LangGraph illuminates the processes within an AI workflow, allowing full transparency of the agent’s state. By combining these technologies with a set of APIs and tools, LangGraph provides users with a versatile platform for developing AI solutions and workflows including chatbots, state graphs and other agent-based systems. Nodes: In LangGraph, nodes represent individual components or agents within an AI workflow. LangGraph uses enhanced decision-making by modeling complex relationships between nodes, which means it uses AI agents to analyze their past actions and feedback.',\n",
       "   'score': 0.94401723,\n",
       "   'raw_content': None}],\n",
       " 'response_time': 0.95}"
      ]
     },
     "execution_count": 24,
     "metadata": {},
     "output_type": "execute_result"
    }
   ],
   "source": [
    "from langchain_tavily import TavilySearch\n",
    "\n",
    "tool = TavilySearch(max_results=2)\n",
    "tool.invoke(\"What is langgraph\")"
   ]
  },
  {
   "cell_type": "code",
   "execution_count": 31,
   "id": "705b8bb3",
   "metadata": {},
   "outputs": [],
   "source": [
    "def multiply(a: int, b: int) -> int:\n",
    "    '''Multiplies two integers and returns the result.'''\n",
    "    return a * b"
   ]
  },
  {
   "cell_type": "code",
   "execution_count": 33,
   "id": "f1425326",
   "metadata": {},
   "outputs": [],
   "source": [
    "tools = [tool, multiply]"
   ]
  },
  {
   "cell_type": "code",
   "execution_count": 34,
   "id": "5775eeca",
   "metadata": {},
   "outputs": [],
   "source": [
    "llm_with_tools = llm.bind_tools(tools)"
   ]
  },
  {
   "cell_type": "code",
   "execution_count": null,
   "id": "98d14342",
   "metadata": {},
   "outputs": [
    {
     "data": {
      "text/plain": [
       "<langgraph.graph.state.StateGraph at 0x202d5a1dee0>"
      ]
     },
     "execution_count": 47,
     "metadata": {},
     "output_type": "execute_result"
    }
   ],
   "source": [
    "#StateGraph\n",
    "from langgraph.graph import StateGraph, START, END\n",
    "from langgraph.prebuilt import ToolNode\n",
    "from langgraph.prebuilt import tools_condition\n",
    "\n",
    "def tool_calling_llm(state: State):\n",
    "    return {\"messages\": [llm_with_tools.invoke(state[\"messages\"])]}\n",
    " \n",
    "\n",
    "builder = StateGraph(State)\n",
    "builder.add_node(\"tool_calling_llm\", tool_calling_llm)\n",
    "builder.add_node(\"tools\", ToolNode(tools))\n",
    "\n",
    "builder.add_edge(START, \"tool_calling_llm\")\n",
    "builder.add_conditional_edges(\"tool_calling_llm\", tools_condition)\n",
    "# builder.add_edge(\"tools\", END)\n",
    "builder.add_edge(\"tools\", \"tool_calling_llm\")\n"
   ]
  },
  {
   "cell_type": "code",
   "execution_count": 48,
   "id": "01a27e21",
   "metadata": {},
   "outputs": [
    {
     "data": {
      "image/png": "[encoded data removed]",
      "text/plain": [
       "<IPython.core.display.Image object>"
      ]
     },
     "metadata": {},
     "output_type": "display_data"
    }
   ],
   "source": [
    "graph = builder.compile()\n",
    "display(Image(graph.get_graph().draw_mermaid_png()))"
   ]
  },
  {
   "cell_type": "markdown",
   "id": "80de97fd",
   "metadata": {},
   "source": []
  },
  {
   "cell_type": "code",
   "execution_count": 50,
   "id": "47d6eb41",
   "metadata": {},
   "outputs": [
    {
     "data": {
      "text/plain": [
       "{'messages': [HumanMessage(content='What is the recent ai news', additional_kwargs={}, response_metadata={}, id='7df0e005-dff2-45c6-b68d-1023f5360b46'),\n",
       "  AIMessage(content='', additional_kwargs={'reasoning_content': 'Okay, the user is asking for recent AI news. Let me see how to approach this.\\n\\nFirst, I need to use the tavily_search function since it\\'s about searching for information. The query is \"recent ai news,\" so the main parameter here is the query itself. \\n\\nThe user mentioned \"recent,\" which implies they want the latest information. In the tavily_search function, there\\'s a parameter called time_range that can limit results to a specific timeframe. The options are day, week, month, year. Since \"recent\" could be interpreted as the last week or month, but AI news can be frequent, maybe setting time_range to \"week\" would be appropriate to get the latest updates without being too narrow. Alternatively, \"month\" might capture more coverage. Wait, the user might want the very latest, so \"week\" is better. Let me check the function\\'s description again. It says to use time_range when the user explicitly mentions a time period. The user said \"recent,\" which is a bit vague, but I think \"week\" is a safe bet here.\\n\\nAlso, the topic parameter in tavily_search can be set to \"news\" if the query is about current events. However, the topic parameter is for specifying the category like general, news, finance. Since AI news can fall under general or news. The description says to use \"news\" for politics, sports, or major current events covered by mainstream media. AI news might be considered part of general news unless it\\'s a major event. Hmm, maybe keeping the topic as \"general\" is safer unless the user specifies it\\'s a major event. Since the user just said \"recent ai news,\" maybe \"general\" is okay. But if there are specific news outlets they want, but the user didn\\'t mention any domains, so include_domains and exclude_domains aren\\'t needed here. \\n\\nAlso, the search_depth parameter: \"basic\" for simple queries, \"advanced\" for complex. Since AI news could be a broad topic, using \"advanced\" might get more comprehensive results. \\n\\nSo putting it all together: query is \"recent ai news,\" time_range \"week,\" topic \"general,\" search_depth \"advanced\". Let me verify the parameters again. The required parameter is \"query,\" which is covered. Time_range is set to \"week\" to get the latest. Topic is \"general\" as default, which is acceptable. Search_depth is \"advanced\" to ensure thorough results. \\n\\nI don\\'t need to include images or favicon unless specified, which the user didn\\'t. Exclude_domains and include_domains are not necessary here. Start_date and end_date are not set because time_range is used instead. \\n\\nSo the function call should be tavily_search with these parameters.\\n', 'tool_calls': [{'id': 'j6gbnn5sw', 'function': {'arguments': '{\"query\":\"recent ai news\",\"search_depth\":\"advanced\",\"time_range\":\"week\",\"topic\":\"general\"}', 'name': 'tavily_search'}, 'type': 'function'}]}, response_metadata={'token_usage': {'completion_tokens': 608, 'prompt_tokens': 1812, 'total_tokens': 2420, 'completion_time': 1.781964608, 'prompt_time': 0.226791573, 'queue_time': 0.05821522, 'total_time': 2.008756181}, 'model_name': 'qwen/qwen3-32b', 'system_fingerprint': 'fp_5cf921caa2', 'service_tier': 'on_demand', 'finish_reason': 'tool_calls', 'logprobs': None}, id='run--f71efaa4-fc72-4790-82e3-9e6a391befd2-0', tool_calls=[{'name': 'tavily_search', 'args': {'query': 'recent ai news', 'search_depth': 'advanced', 'time_range': 'week', 'topic': 'general'}, 'id': 'j6gbnn5sw', 'type': 'tool_call'}], usage_metadata={'input_tokens': 1812, 'output_tokens': 608, 'total_tokens': 2420}),\n",
       "  ToolMessage(content='{\"query\": \"recent ai news\", \"follow_up_questions\": null, \"answer\": null, \"images\": [], \"results\": [{\"url\": \"https://www.cbsnews.com/news/ai-jobs-layoffs-us-2025/\", \"title\": \"AI is leading to thousands of job losses, report finds - CBS News\", \"content\": \"The impact of AI on hiring is perhaps most visible among younger workers. Job listings for the kind of entry-level corporate roles traditionally available to recent college graduates have declined 15% over the past year, according to Handshake, a career platform geared toward Gen Z employees. Over the past two years, there has been a 400% increase in employers using \\\\\"AI\\\\\" in job descriptions, the firm found. [...] Watch CBS News\\\\n\\\\n# AI is leading to thousands of job losses, report finds\\\\n\\\\nmoneywatch\\\\n\\\\nUpdated on: August 5, 2025 / 10:16 AM EDT\\\\n/ CBS News\\\\n\\\\nThe U.S. job market, already showing the strain from global trade tensions, is showing early signs of another critical issue facing workers today: artificial intelligence. [...] For the first seven months of 2025, rising adoption of generative AI technology by private employers accounted for more than 10,000 job cuts, according to a report released this week by Challenger, Gray & Christmas. The outplacement firm lists AI as one of the top five factors contributing to job losses in 2025.\", \"score\": 0.6152965, \"raw_content\": null}, {\"url\": \"https://www.theguardian.com/technology/2025/aug/05/google-step-artificial-general-intelligence-deepmind-agi\", \"title\": \"Google says its new \\'world model\\' could train AI robots in virtual ...\", \"content\": \"The announcement comes amid ever-increasing competition in the AI market. On Sunday Sam Altman, the chief executive of ChatGPT’s developer, OpenAI, shared a screenshotof what appeared to be the company’s latest AI model, GPT-5. [...] A robot in a kitchen with a lunch box and some fruit\\\\n\\\\n# Google says its new ‘world model’ could train AI robots in virtual warehouses\\\\n\\\\nGenie 3 is latest step towards human-level artificial general intelligence, tech company claims\\\\n\\\\nGoogle has outlined its latest step towards artificial general intelligence (AGI) with a new model that allows AI systems to interact with a convincing simulation of the real world. [...] “While AIs are trained on vast quantities of internet data, allowing an AI to explore the world physically will add an important dimension to the creation of more powerful and intelligent AIs.”\\\\n\\\\nIn a research note accompanying the Sima announcement last year, Google researchers said world models were important because large language models were effective at tasks such as planning but not at taking action on a human’s behalf.\\\\n\\\\n## More on this story\\\\n\\\\n## More on this story\", \"score\": 0.5425973, \"raw_content\": null}], \"response_time\": 1.93}', name='tavily_search', id='dc058d2a-7ff9-4f37-9429-5e359d518b62', tool_call_id='j6gbnn5sw'),\n",
       "  AIMessage(content='Here\\'s a summary of recent AI news from the past week:\\n\\n1. **AI-Driven Job Losses** (CBS News, August 2025)  \\n   - Generative AI adoption led to over 10,000 job cuts in the U.S. in 2025.  \\n   - Entry-level corporate job listings dropped 15% year-over-year.  \\n   - Employers increasingly use \"AI\" in job descriptions (400% growth in 2 years).  \\n\\n2. **Google\\'s AGI Advancement** (The Guardian)  \\n   - Google unveiled \"Genie 3,\" a world model for AI robots to interact with virtual environments.  \\n   - Positions the technology as a step toward artificial general intelligence (AGI).  \\n   - Competes with OpenAI\\'s recent GPT-5 developments.  \\n\\nFor details, see:  \\n- [AI Job Market Impact (CBS)](https://www.cbsnews.com/news/ai-jobs-layoffs-us-2025/)  \\n- [Google\\'s AGI Research (The Guardian)](https://www.theguardian.com/technology/2025/aug/05/google-step-artificial-general-intelligence-deepmind-agi)', additional_kwargs={'reasoning_content': \"Okay, the user asked for recent AI news. I used the Tavily search tool with parameters set to look for news from the past week, using advanced search depth and general topic. The tool returned two articles. \\n\\nFirst, I need to summarize these articles clearly. The first one from CBS News talks about AI causing job losses, specifically a 15% decline in entry-level job listings and a 400% increase in AI mentions in job descriptions. The second article from The Guardian covers Google's new AI model, Genie 3, which is a step towards AGI, allowing AI robots to interact with virtual environments.\\n\\nI should present these summaries in a way that's easy to understand, highlighting the key points from each. Also, make sure to mention the sources and dates if available. Since the user wants recent news, emphasizing the August 2025 date from CBS adds context on timeliness. \\n\\nI need to check if there's any additional info needed, but since the user just asked for recent AI news, these two points cover different aspects: economic impact and technological advancement. No need for further tool calls as the response provides relevant and recent information. Just present the findings clearly and concisely.\\n\"}, response_metadata={'token_usage': {'completion_tokens': 516, 'prompt_tokens': 2530, 'total_tokens': 3046, 'completion_time': 1.153970107, 'prompt_time': 0.090007633, 'queue_time': 0.064961667, 'total_time': 1.24397774, 'prompt_tokens_details': {'cached_tokens': 1024}}, 'model_name': 'qwen/qwen3-32b', 'system_fingerprint': 'fp_5cf921caa2', 'service_tier': 'on_demand', 'finish_reason': 'stop', 'logprobs': None}, id='run--6dec086f-011b-41b3-87ee-9acb2ee27aea-0', usage_metadata={'input_tokens': 2530, 'output_tokens': 516, 'total_tokens': 3046})]}"
      ]
     },
     "execution_count": 50,
     "metadata": {},
     "output_type": "execute_result"
    }
   ],
   "source": [
    "graph.invoke({\"messages\": \"What is the recent ai news\"})"
   ]
  },
  {
   "cell_type": "code",
   "execution_count": 56,
   "id": "8388b4fe",
   "metadata": {},
   "outputs": [
    {
     "name": "stdout",
     "output_type": "stream",
     "text": [
      "================================\u001b[1m Human Message \u001b[0m=================================\n",
      "\n",
      "What is the recent ai news and what is 5*2\n",
      "==================================\u001b[1m Ai Message \u001b[0m==================================\n",
      "Tool Calls:\n",
      "  tavily_search (a9f355ztq)\n",
      " Call ID: a9f355ztq\n",
      "  Args:\n",
      "    query: recent AI news\n",
      "    search_depth: advanced\n",
      "    time_range: week\n",
      "    topic: general\n",
      "  multiply (aj1tjq7qh)\n",
      " Call ID: aj1tjq7qh\n",
      "  Args:\n",
      "    a: 5\n",
      "    b: 2\n",
      "=================================\u001b[1m Tool Message \u001b[0m=================================\n",
      "Name: tavily_search\n",
      "\n",
      "{\"query\": \"recent AI news\", \"follow_up_questions\": null, \"answer\": null, \"images\": [], \"results\": [{\"url\": \"https://www.cbsnews.com/news/ai-jobs-layoffs-us-2025/\", \"title\": \"AI is leading to thousands of job losses, report finds - CBS News\", \"content\": \"The impact of AI on hiring is perhaps most visible among younger workers. Job listings for the kind of entry-level corporate roles traditionally available to recent college graduates have declined 15% over the past year, according to Handshake, a career platform geared toward Gen Z employees. Over the past two years, there has been a 400% increase in employers using \\\"AI\\\" in job descriptions, the firm found. [...] Watch CBS News\\n\\n# AI is leading to thousands of job losses, report finds\\n\\nmoneywatch\\n\\nUpdated on: August 5, 2025 / 10:16 AM EDT\\n/ CBS News\\n\\nThe U.S. job market, already showing the strain from global trade tensions, is showing early signs of another critical issue facing workers today: artificial intelligence. [...] For the first seven months of 2025, rising adoption of generative AI technology by private employers accounted for more than 10,000 job cuts, according to a report released this week by Challenger, Gray & Christmas. The outplacement firm lists AI as one of the top five factors contributing to job losses in 2025.\", \"score\": 0.6122407, \"raw_content\": null}, {\"url\": \"https://www.theguardian.com/technology/2025/aug/05/google-step-artificial-general-intelligence-deepmind-agi\", \"title\": \"Google says its new 'world model' could train AI robots in virtual ...\", \"content\": \"A robot in a kitchen with a lunch box and some fruit\\n\\n# Google says its new ‘world model’ could train AI robots in virtual warehouses\\n\\nGenie 3 is latest step towards human-level artificial general intelligence, tech company claims\\n\\nGoogle has outlined its latest step towards artificial general intelligence (AGI) with a new model that allows AI systems to interact with a convincing simulation of the real world. [...] The announcement comes amid ever-increasing competition in the AI market. On Sunday Sam Altman, the chief executive of ChatGPT’s developer, OpenAI, shared a screenshotof what appeared to be the company’s latest AI model, GPT-5. [...] “While AIs are trained on vast quantities of internet data, allowing an AI to explore the world physically will add an important dimension to the creation of more powerful and intelligent AIs.”\\n\\nIn a research note accompanying the Sima announcement last year, Google researchers said world models were important because large language models were effective at tasks such as planning but not at taking action on a human’s behalf.\\n\\n## More on this story\\n\\n## More on this story\", \"score\": 0.53866833, \"raw_content\": null}], \"response_time\": 2.31}\n",
      "=================================\u001b[1m Tool Message \u001b[0m=================================\n",
      "Name: multiply\n",
      "\n",
      "10\n",
      "==================================\u001b[1m Ai Message \u001b[0m==================================\n",
      "\n",
      "Here are the results for your queries:\n",
      "\n",
      "**Recent AI News:**\n",
      "1. **AI Job Losses**: A report reveals that AI adoption led to over 10,000 job cuts in the U.S. in 2025, with a 15% decline in entry-level corporate job listings for young workers. Employers are increasingly using \"AI\" in job descriptions (400% rise over two years).\n",
      "   - [Source: CBS News](https://www.cbsnews.com/news/ai-jobs-layoffs-us-2025/)\n",
      "\n",
      "2. **Google's AGI Progress**: Google introduced \"Sima,\" a world model for AI robots trained in virtual environments, marking progress toward artificial general intelligence (AGI). This development coincides with OpenAI's rumored GPT-5 release.\n",
      "   - [Source: The Guardian](https://www.theguardian.com/technology/2025/aug/05/google-step-artificial-general-intelligence-deepmind-agi)\n",
      "\n",
      "**Math Result:**\n",
      "5 × 2 = **10**\n"
     ]
    }
   ],
   "source": [
    "response = graph.invoke({\"messages\": \"What is the recent ai news and what is 5*2\"})\n",
    "for m in response['messages']:\n",
    "    m.pretty_print()"
   ]
  },
  {
   "cell_type": "markdown",
   "id": "28fcb47d",
   "metadata": {},
   "source": [
    "# Adding Memory in Agentic Graph"
   ]
  },
  {
   "cell_type": "code",
   "execution_count": 59,
   "id": "49d06484",
   "metadata": {},
   "outputs": [
    {
     "data": {
      "image/png": "[encoded data removed]",
      "text/plain": [
       "<IPython.core.display.Image object>"
      ]
     },
     "metadata": {},
     "output_type": "display_data"
    }
   ],
   "source": [
    "#StateGraph\n",
    "from langgraph.graph import StateGraph, START, END\n",
    "from langgraph.prebuilt import ToolNode\n",
    "from langgraph.prebuilt import tools_condition\n",
    "from langgraph.checkpoint.memory import MemorySaver\n",
    "\n",
    "memory = MemorySaver()\n",
    "\n",
    "def tool_calling_llm(state: State):\n",
    "    return {\"messages\": [llm_with_tools.invoke(state[\"messages\"])]}\n",
    " \n",
    "\n",
    "builder = StateGraph(State)\n",
    "builder.add_node(\"tool_calling_llm\", tool_calling_llm)\n",
    "builder.add_node(\"tools\", ToolNode(tools))\n",
    "\n",
    "builder.add_edge(START, \"tool_calling_llm\")\n",
    "builder.add_conditional_edges(\"tool_calling_llm\", tools_condition)\n",
    "# builder.add_edge(\"tools\", END)\n",
    "builder.add_edge(\"tools\", \"tool_calling_llm\")\n",
    "\n",
    "graph = builder.compile(checkpointer=memory)\n",
    "\n",
    "from IPython.display import Image, display\n",
    "display(Image(graph.get_graph().draw_mermaid_png()))\n"
   ]
  },
  {
   "cell_type": "code",
   "execution_count": 60,
   "id": "4c431c92",
   "metadata": {},
   "outputs": [
    {
     "data": {
      "text/plain": [
       "{'messages': [HumanMessage(content='Hi my name is Tejaswini', additional_kwargs={}, response_metadata={}, id='b5813717-fedf-4b36-951b-3e40de140271'),\n",
       "  AIMessage(content='Hello Tejaswini! 😊 How can I assist you today?', additional_kwargs={'reasoning_content': 'Okay, the user said, \"Hi my name is Tejaswini.\" Let me think about how to respond.\\n\\nFirst, I need to acknowledge their greeting. A simple \"Hello\" seems appropriate. Then, I should mention their name to make it personal. Maybe add an emoji to keep it friendly. Also, I should offer assistance since they might have a question or need help. Let me check if there\\'s any other info needed, but the tools provided don\\'t seem necessary here because it\\'s just a greeting. So, no function calls are needed. Just a polite response.\\n'}, response_metadata={'token_usage': {'completion_tokens': 138, 'prompt_tokens': 1814, 'total_tokens': 1952, 'completion_time': 0.410233522, 'prompt_time': 0.386472031, 'queue_time': 0.058050469, 'total_time': 0.796705553}, 'model_name': 'qwen/qwen3-32b', 'system_fingerprint': 'fp_5cf921caa2', 'service_tier': 'on_demand', 'finish_reason': 'stop', 'logprobs': None}, id='run--cd1cc617-92de-4bea-918d-612cc7b06d91-0', usage_metadata={'input_tokens': 1814, 'output_tokens': 138, 'total_tokens': 1952})]}"
      ]
     },
     "execution_count": 60,
     "metadata": {},
     "output_type": "execute_result"
    }
   ],
   "source": [
    "config = {\"configurable\": {\"thread_id\": \"1\"}}\n",
    "\n",
    "response = graph.invoke({\"messages\": \"Hi my name is Tejaswini\"}, config=config)\n",
    "response"
   ]
  },
  {
   "cell_type": "code",
   "execution_count": 61,
   "id": "0022d3a1",
   "metadata": {},
   "outputs": [
    {
     "data": {
      "text/plain": [
       "{'messages': [HumanMessage(content='Hi my name is Tejaswini', additional_kwargs={}, response_metadata={}, id='b5813717-fedf-4b36-951b-3e40de140271'),\n",
       "  AIMessage(content='Hello Tejaswini! 😊 How can I assist you today?', additional_kwargs={'reasoning_content': 'Okay, the user said, \"Hi my name is Tejaswini.\" Let me think about how to respond.\\n\\nFirst, I need to acknowledge their greeting. A simple \"Hello\" seems appropriate. Then, I should mention their name to make it personal. Maybe add an emoji to keep it friendly. Also, I should offer assistance since they might have a question or need help. Let me check if there\\'s any other info needed, but the tools provided don\\'t seem necessary here because it\\'s just a greeting. So, no function calls are needed. Just a polite response.\\n'}, response_metadata={'token_usage': {'completion_tokens': 138, 'prompt_tokens': 1814, 'total_tokens': 1952, 'completion_time': 0.410233522, 'prompt_time': 0.386472031, 'queue_time': 0.058050469, 'total_time': 0.796705553}, 'model_name': 'qwen/qwen3-32b', 'system_fingerprint': 'fp_5cf921caa2', 'service_tier': 'on_demand', 'finish_reason': 'stop', 'logprobs': None}, id='run--cd1cc617-92de-4bea-918d-612cc7b06d91-0', usage_metadata={'input_tokens': 1814, 'output_tokens': 138, 'total_tokens': 1952}),\n",
       "  HumanMessage(content='Hey what is my name?', additional_kwargs={}, response_metadata={}, id='4c052969-0f8f-44e0-9a45-1eb212f3cb74'),\n",
       "  AIMessage(content='Your name is Tejaswini.', additional_kwargs={'reasoning_content': 'Okay, let\\'s see. The user asked, \"Hey what is my name?\" after introducing themselves as Tejaswini. The previous message from the assistant was a greeting using the name Tejaswini. Now, the user is testing if the assistant remembers their name.\\n\\nFirst, I need to recall the user\\'s name from the conversation history. The user provided their name in the previous message, so the assistant should recognize it without needing any external data or function calls. Since the name is already known, there\\'s no need to use any of the provided tools like tavily_search or multiply. The correct response is to state the user\\'s name again. The assistant should respond directly with \"Your name is Tejaswini.\" without any tool calls.\\n'}, response_metadata={'token_usage': {'completion_tokens': 166, 'prompt_tokens': 1845, 'total_tokens': 2011, 'completion_time': 0.50909696, 'prompt_time': 0.111606522, 'queue_time': 0.058540798, 'total_time': 0.620703482}, 'model_name': 'qwen/qwen3-32b', 'system_fingerprint': 'fp_5cf921caa2', 'service_tier': 'on_demand', 'finish_reason': 'stop', 'logprobs': None}, id='run--59f92005-e964-411e-ae18-d621462f4f67-0', usage_metadata={'input_tokens': 1845, 'output_tokens': 166, 'total_tokens': 2011})]}"
      ]
     },
     "execution_count": 61,
     "metadata": {},
     "output_type": "execute_result"
    }
   ],
   "source": [
    "response = graph.invoke({\"messages\": \"Hey what is my name?\"}, config=config)\n",
    "response"
   ]
  },
  {
   "cell_type": "markdown",
   "id": "4eb8e95c",
   "metadata": {},
   "source": [
    "# Streaming"
   ]
  },
  {
   "cell_type": "code",
   "execution_count": 62,
   "id": "f8f0dd9c",
   "metadata": {},
   "outputs": [],
   "source": [
    "from langgraph.checkpoint.memory import MemorySaver\n",
    "memory = MemorySaver()"
   ]
  },
  {
   "cell_type": "code",
   "execution_count": 63,
   "id": "c4b83357",
   "metadata": {},
   "outputs": [],
   "source": [
    "def superbot(state: State):\n",
    "    return {\"messages\": [llm_with_tools.invoke(state[\"messages\"])]}"
   ]
  },
  {
   "cell_type": "code",
   "execution_count": 66,
   "id": "3096d2f1",
   "metadata": {},
   "outputs": [
    {
     "data": {
      "image/png": "[encoded data removed]",
      "text/plain": [
       "<IPython.core.display.Image object>"
      ]
     },
     "metadata": {},
     "output_type": "display_data"
    }
   ],
   "source": [
    "graph = StateGraph(State).add_node(\"superbot\", superbot).add_edge(START, \"superbot\").add_edge(\"superbot\", END).compile(checkpointer=memory)\n",
    "\n",
    "from IPython.display import Image, display\n",
    "display(Image(graph.get_graph().draw_mermaid_png()))"
   ]
  },
  {
   "cell_type": "code",
   "execution_count": 68,
   "id": "2bb62f44",
   "metadata": {},
   "outputs": [
    {
     "data": {
      "text/plain": [
       "{'messages': [HumanMessage(content='Hi my name is Tejaswini and i like cricket', additional_kwargs={}, response_metadata={}, id='f21d18f9-b1bd-464e-b44e-eba54ef497c9'),\n",
       "  AIMessage(content=\"Hi Tejaswini! It's great to meet you. Cricket is an amazing sport—do you follow any particular teams or players? 😊\", additional_kwargs={'reasoning_content': \"Okay, the user introduced herself as Tejaswini and mentioned she likes cricket. I need to respond appropriately. Let me check if there are any functions I should use here. The available functions are tavily_search and multiply. Since she's talking about her interests, there's no need for a search or multiplication. I should just acknowledge her message and maybe ask a follow-up question. Let me make sure I'm not missing any hidden queries. She didn't ask for anything specific, so a friendly response is best.\\n\"}, response_metadata={'token_usage': {'completion_tokens': 140, 'prompt_tokens': 1818, 'total_tokens': 1958, 'completion_time': 0.342293226, 'prompt_time': 0.087279734, 'queue_time': 0.059211797, 'total_time': 0.42957296}, 'model_name': 'qwen/qwen3-32b', 'system_fingerprint': 'fp_5cf921caa2', 'service_tier': 'on_demand', 'finish_reason': 'stop', 'logprobs': None}, id='run--336c438a-e26d-4e5b-b6a2-f54c7a8d8d92-0', usage_metadata={'input_tokens': 1818, 'output_tokens': 140, 'total_tokens': 1958})]}"
      ]
     },
     "execution_count": 68,
     "metadata": {},
     "output_type": "execute_result"
    }
   ],
   "source": [
    "config = {\"configurable\": {\"thread_id\": \"1\"}}\n",
    "\n",
    "graph.invoke({\"messages\": \"Hi my name is Tejaswini and i like cricket\"}, config=config)"
   ]
  },
  {
   "cell_type": "code",
   "execution_count": 70,
   "id": "cc516a52",
   "metadata": {},
   "outputs": [
    {
     "name": "stdout",
     "output_type": "stream",
     "text": [
      "{'superbot': {'messages': [AIMessage(content='Hello Tejaswini! Nice to meet you. 🏏 Since you mentioned you like cricket, do you follow any particular team or player closely? Or do you play the game yourself?', additional_kwargs={'reasoning_content': \"Okay, the user introduced themselves as Tejaswini and mentioned they like cricket. I need to respond appropriately. Let me think.\\n\\nFirst, I should acknowledge her introduction. Maybe say hello and express that it's nice to meet her. Then, since she mentioned liking cricket, I can ask her some questions to engage in a conversation. Like, how long has she been following cricket? Or does she play any specific position? Also, maybe ask about her favorite team or player. That could help in understanding her interests better and keep the conversation going. I should keep the tone friendly and open-ended to encourage her to share more. Let me make sure the questions are not too personal but still engaging. Yeah, something like that should work.\\n\"}, response_metadata={'token_usage': {'completion_tokens': 193, 'prompt_tokens': 1818, 'total_tokens': 2011, 'completion_time': 0.536162588, 'prompt_time': 0.346734886, 'queue_time': 0.077204997, 'total_time': 0.882897474}, 'model_name': 'qwen/qwen3-32b', 'system_fingerprint': 'fp_5cf921caa2', 'service_tier': 'on_demand', 'finish_reason': 'stop', 'logprobs': None}, id='run--695ad8f0-da85-4ed0-a91c-e5f8b8bd5b7a-0', usage_metadata={'input_tokens': 1818, 'output_tokens': 193, 'total_tokens': 2011})]}}\n"
     ]
    }
   ],
   "source": [
    "config = {\"configurable\": {\"thread_id\": \"3\"}}\n",
    "\n",
    "for chunk in graph.stream({\"messages\": \"Hi my name is Tejaswini and i like cricket\"}, config=config, stream_mode = \"updates\"):\n",
    "    print(chunk)"
   ]
  },
  {
   "cell_type": "code",
   "execution_count": 71,
   "id": "f63e5fc3",
   "metadata": {},
   "outputs": [
    {
     "name": "stdout",
     "output_type": "stream",
     "text": [
      "{'messages': [HumanMessage(content='Hi my name is Tejaswini and i like cricket', additional_kwargs={}, response_metadata={}, id='93d9cd56-a4c0-4397-a2e7-136cefdb9cd8'), AIMessage(content='Hello Tejaswini! Nice to meet you. 🏏 Since you mentioned you like cricket, do you follow any particular team or player closely? Or do you play the game yourself?', additional_kwargs={'reasoning_content': \"Okay, the user introduced themselves as Tejaswini and mentioned they like cricket. I need to respond appropriately. Let me think.\\n\\nFirst, I should acknowledge her introduction. Maybe say hello and express that it's nice to meet her. Then, since she mentioned liking cricket, I can ask her some questions to engage in a conversation. Like, how long has she been following cricket? Or does she play any specific position? Also, maybe ask about her favorite team or player. That could help in understanding her interests better and keep the conversation going. I should keep the tone friendly and open-ended to encourage her to share more. Let me make sure the questions are not too personal but still engaging. Yeah, something like that should work.\\n\"}, response_metadata={'token_usage': {'completion_tokens': 193, 'prompt_tokens': 1818, 'total_tokens': 2011, 'completion_time': 0.536162588, 'prompt_time': 0.346734886, 'queue_time': 0.077204997, 'total_time': 0.882897474}, 'model_name': 'qwen/qwen3-32b', 'system_fingerprint': 'fp_5cf921caa2', 'service_tier': 'on_demand', 'finish_reason': 'stop', 'logprobs': None}, id='run--695ad8f0-da85-4ed0-a91c-e5f8b8bd5b7a-0', usage_metadata={'input_tokens': 1818, 'output_tokens': 193, 'total_tokens': 2011}), HumanMessage(content='Hi my name is Tejaswini and i like cricket', additional_kwargs={}, response_metadata={}, id='adc9f207-a269-47ce-8d3e-b5b302076998')]}\n",
      "{'messages': [HumanMessage(content='Hi my name is Tejaswini and i like cricket', additional_kwargs={}, response_metadata={}, id='93d9cd56-a4c0-4397-a2e7-136cefdb9cd8'), AIMessage(content='Hello Tejaswini! Nice to meet you. 🏏 Since you mentioned you like cricket, do you follow any particular team or player closely? Or do you play the game yourself?', additional_kwargs={'reasoning_content': \"Okay, the user introduced themselves as Tejaswini and mentioned they like cricket. I need to respond appropriately. Let me think.\\n\\nFirst, I should acknowledge her introduction. Maybe say hello and express that it's nice to meet her. Then, since she mentioned liking cricket, I can ask her some questions to engage in a conversation. Like, how long has she been following cricket? Or does she play any specific position? Also, maybe ask about her favorite team or player. That could help in understanding her interests better and keep the conversation going. I should keep the tone friendly and open-ended to encourage her to share more. Let me make sure the questions are not too personal but still engaging. Yeah, something like that should work.\\n\"}, response_metadata={'token_usage': {'completion_tokens': 193, 'prompt_tokens': 1818, 'total_tokens': 2011, 'completion_time': 0.536162588, 'prompt_time': 0.346734886, 'queue_time': 0.077204997, 'total_time': 0.882897474}, 'model_name': 'qwen/qwen3-32b', 'system_fingerprint': 'fp_5cf921caa2', 'service_tier': 'on_demand', 'finish_reason': 'stop', 'logprobs': None}, id='run--695ad8f0-da85-4ed0-a91c-e5f8b8bd5b7a-0', usage_metadata={'input_tokens': 1818, 'output_tokens': 193, 'total_tokens': 2011}), HumanMessage(content='Hi my name is Tejaswini and i like cricket', additional_kwargs={}, response_metadata={}, id='adc9f207-a269-47ce-8d3e-b5b302076998'), AIMessage(content='Hello again, Tejaswini! 😊 Cricket is an amazing sport—do you have a favorite team to cheer for, or perhaps a player you admire? Also, do you play any specific role in the game (like batting, bowling, or fielding)? Let me know what aspects of cricket excite you most! 🏏', additional_kwargs={'reasoning_content': \"Okay, the user introduced themselves as Tejaswini and mentioned they like cricket. The previous response asked about teams, players, or if they play. Now they've sent the same message again. Maybe they didn't get a response or want to expand. Let me check the history.\\n\\nWait, the first time they said that, I responded with a greeting and questions. Now they're repeating the same message. Could be a test or they want to add more. Since there's no new info, I should prompt them again to ask their question or share more about their interest in cricket. Maybe they need encouragement to elaborate. Let me respond warmly, acknowledging their interest and invite them to share more specifics. Keep it friendly and open-ended.\\n\"}, response_metadata={'token_usage': {'completion_tokens': 223, 'prompt_tokens': 1879, 'total_tokens': 2102, 'completion_time': 0.560952581, 'prompt_time': 0.114853051, 'queue_time': 0.060035588, 'total_time': 0.675805632}, 'model_name': 'qwen/qwen3-32b', 'system_fingerprint': 'fp_5cf921caa2', 'service_tier': 'on_demand', 'finish_reason': 'stop', 'logprobs': None}, id='run--38832324-7bf6-4736-bc55-ea9e6745163d-0', usage_metadata={'input_tokens': 1879, 'output_tokens': 223, 'total_tokens': 2102})]}\n"
     ]
    }
   ],
   "source": [
    "config = {\"configurable\": {\"thread_id\": \"3\"}}\n",
    "\n",
    "for chunk in graph.stream({\"messages\": \"Hi my name is Tejaswini and i like cricket\"}, config=config, stream_mode = \"values\"):\n",
    "    print(chunk)"
   ]
  },
  {
   "cell_type": "code",
   "execution_count": 73,
   "id": "ad6b7471",
   "metadata": {},
   "outputs": [
    {
     "name": "stdout",
     "output_type": "stream",
     "text": [
      "{'superbot': {'messages': [AIMessage(content='Hello again, Tejaswini! 😊 How can I assist you today? If you have any questions about cricket or anything else, feel free to ask!', additional_kwargs={'reasoning_content': \"Okay, the user introduced herself as Tejaswini and mentioned she likes cricket. The previous response was a greeting and asked about her interest in cricket. Now, the user is repeating the same message. Maybe she didn't get a response she expected or is testing the system.\\n\\nI need to check if there's a need for further action. Since she likes cricket, maybe suggest some cricket-related topics. But the tools available are Tavily Search and Multiply. Since she hasn't asked a question that requires a tool, there's no need to call any functions. Just respond politely again and offer assistance.\\n\"}, response_metadata={'token_usage': {'completion_tokens': 160, 'prompt_tokens': 1903, 'total_tokens': 2063, 'completion_time': 0.436694872, 'prompt_time': 0.096942546, 'queue_time': 0.068409954, 'total_time': 0.533637418}, 'model_name': 'qwen/qwen3-32b', 'system_fingerprint': 'fp_5cf921caa2', 'service_tier': 'on_demand', 'finish_reason': 'stop', 'logprobs': None}, id='run--b8552d2a-6027-428a-862e-9d399e09dfb4-0', usage_metadata={'input_tokens': 1903, 'output_tokens': 160, 'total_tokens': 2063})]}}\n"
     ]
    }
   ],
   "source": [
    "config = {\"configurable\": {\"thread_id\": \"4\"}}\n",
    "\n",
    "for chunk in graph.stream({\"messages\": \"Hi my name is Tejaswini and i like cricket\"}, config=config, stream_mode = \"updates\"):\n",
    "    print(chunk)"
   ]
  },
  {
   "cell_type": "code",
   "execution_count": 74,
   "id": "68424c57",
   "metadata": {},
   "outputs": [
    {
     "name": "stdout",
     "output_type": "stream",
     "text": [
      "{'messages': [HumanMessage(content='Hi my name is Tejaswini and i like cricket', additional_kwargs={}, response_metadata={}, id='f86859a4-d254-4bcb-bbe3-fc66ac9039a5'), AIMessage(content=\"Hello Tejaswini! It's great to meet you. 🏏 I know cricket is an exciting sport - do you play it, or are you a fan of watching matches? If you have any specific questions about cricket rules, teams, or players you'd like to discuss, feel free to ask!\", additional_kwargs={'reasoning_content': \"Okay, the user introduced herself as Tejaswini and mentioned she likes cricket. I need to respond appropriately. Since there's no specific question here, my goal is to engage in a friendly conversation. Let me ask her more about her interest in cricket. Maybe find out if she's a player, a fan of a particular team, or has a favorite player. That way, I can continue the conversation and maybe help her find information related to cricket if she needs it. No need to call any functions here since there's no actionable request. Just a simple, friendly response to encourage her to share more.\\n\"}, response_metadata={'token_usage': {'completion_tokens': 191, 'prompt_tokens': 1818, 'total_tokens': 2009, 'completion_time': 0.431303084, 'prompt_time': 0.144939339, 'queue_time': 0.05969883, 'total_time': 0.576242423}, 'model_name': 'qwen/qwen3-32b', 'system_fingerprint': 'fp_5cf921caa2', 'service_tier': 'on_demand', 'finish_reason': 'stop', 'logprobs': None}, id='run--a4ebdcc9-bec8-45df-a760-a9e1a88d77fb-0', usage_metadata={'input_tokens': 1818, 'output_tokens': 191, 'total_tokens': 2009}), HumanMessage(content='Hi my name is Tejaswini and i like cricket', additional_kwargs={}, response_metadata={}, id='b4f8af29-9c40-473b-80b4-af92d6fe6ed9'), AIMessage(content='Hello again, Tejaswini! 😊 How can I assist you today? If you have any questions about cricket or anything else, feel free to ask!', additional_kwargs={'reasoning_content': \"Okay, the user introduced herself as Tejaswini and mentioned she likes cricket. The previous response was a greeting and asked about her interest in cricket. Now, the user is repeating the same message. Maybe she didn't get a response she expected or is testing the system.\\n\\nI need to check if there's a need for further action. Since she likes cricket, maybe suggest some cricket-related topics. But the tools available are Tavily Search and Multiply. Since she hasn't asked a question that requires a tool, there's no need to call any functions. Just respond politely again and offer assistance.\\n\"}, response_metadata={'token_usage': {'completion_tokens': 160, 'prompt_tokens': 1903, 'total_tokens': 2063, 'completion_time': 0.436694872, 'prompt_time': 0.096942546, 'queue_time': 0.068409954, 'total_time': 0.533637418}, 'model_name': 'qwen/qwen3-32b', 'system_fingerprint': 'fp_5cf921caa2', 'service_tier': 'on_demand', 'finish_reason': 'stop', 'logprobs': None}, id='run--b8552d2a-6027-428a-862e-9d399e09dfb4-0', usage_metadata={'input_tokens': 1903, 'output_tokens': 160, 'total_tokens': 2063}), HumanMessage(content='I also like football', additional_kwargs={}, response_metadata={}, id='13a8e768-bffb-41cc-8434-0daa303e97d4')]}\n",
      "{'messages': [HumanMessage(content='Hi my name is Tejaswini and i like cricket', additional_kwargs={}, response_metadata={}, id='f86859a4-d254-4bcb-bbe3-fc66ac9039a5'), AIMessage(content=\"Hello Tejaswini! It's great to meet you. 🏏 I know cricket is an exciting sport - do you play it, or are you a fan of watching matches? If you have any specific questions about cricket rules, teams, or players you'd like to discuss, feel free to ask!\", additional_kwargs={'reasoning_content': \"Okay, the user introduced herself as Tejaswini and mentioned she likes cricket. I need to respond appropriately. Since there's no specific question here, my goal is to engage in a friendly conversation. Let me ask her more about her interest in cricket. Maybe find out if she's a player, a fan of a particular team, or has a favorite player. That way, I can continue the conversation and maybe help her find information related to cricket if she needs it. No need to call any functions here since there's no actionable request. Just a simple, friendly response to encourage her to share more.\\n\"}, response_metadata={'token_usage': {'completion_tokens': 191, 'prompt_tokens': 1818, 'total_tokens': 2009, 'completion_time': 0.431303084, 'prompt_time': 0.144939339, 'queue_time': 0.05969883, 'total_time': 0.576242423}, 'model_name': 'qwen/qwen3-32b', 'system_fingerprint': 'fp_5cf921caa2', 'service_tier': 'on_demand', 'finish_reason': 'stop', 'logprobs': None}, id='run--a4ebdcc9-bec8-45df-a760-a9e1a88d77fb-0', usage_metadata={'input_tokens': 1818, 'output_tokens': 191, 'total_tokens': 2009}), HumanMessage(content='Hi my name is Tejaswini and i like cricket', additional_kwargs={}, response_metadata={}, id='b4f8af29-9c40-473b-80b4-af92d6fe6ed9'), AIMessage(content='Hello again, Tejaswini! 😊 How can I assist you today? If you have any questions about cricket or anything else, feel free to ask!', additional_kwargs={'reasoning_content': \"Okay, the user introduced herself as Tejaswini and mentioned she likes cricket. The previous response was a greeting and asked about her interest in cricket. Now, the user is repeating the same message. Maybe she didn't get a response she expected or is testing the system.\\n\\nI need to check if there's a need for further action. Since she likes cricket, maybe suggest some cricket-related topics. But the tools available are Tavily Search and Multiply. Since she hasn't asked a question that requires a tool, there's no need to call any functions. Just respond politely again and offer assistance.\\n\"}, response_metadata={'token_usage': {'completion_tokens': 160, 'prompt_tokens': 1903, 'total_tokens': 2063, 'completion_time': 0.436694872, 'prompt_time': 0.096942546, 'queue_time': 0.068409954, 'total_time': 0.533637418}, 'model_name': 'qwen/qwen3-32b', 'system_fingerprint': 'fp_5cf921caa2', 'service_tier': 'on_demand', 'finish_reason': 'stop', 'logprobs': None}, id='run--b8552d2a-6027-428a-862e-9d399e09dfb4-0', usage_metadata={'input_tokens': 1903, 'output_tokens': 160, 'total_tokens': 2063}), HumanMessage(content='I also like football', additional_kwargs={}, response_metadata={}, id='13a8e768-bffb-41cc-8434-0daa303e97d4'), AIMessage(content='That’s awesome! 🏆 Football is such a thrilling sport—do you follow any particular league (like the World Cup, UEFA, or domestic leagues)? Let me know if you’d like to discuss teams, players, or even compare it to cricket! 😊', additional_kwargs={'reasoning_content': \"Okay, the user mentioned they like both cricket and football. Let me see how to respond appropriately.\\n\\nFirst, I should acknowledge their interest in football. Maybe ask if they play or just watch. Also, find out if they have a favorite team or player. But since the previous interaction was about cricket, I need to make sure I don't repeat the same questions. The user might want to expand on their interests in sports.\\n\\nI should keep the response friendly and open-ended. Encourage them to share more about their preferences. Maybe mention specific aspects of football they enjoy, like the World Cup or local leagues. Keep it general but inviting.\\n\\nCheck if there's a need to suggest related content or information. Since the tools include a search function, maybe offer to look up info if they need it. But only if they ask. Otherwise, just a simple, engaging response should suffice.\\n\\nAlso, maintain the tone from previous messages—positive and enthusiastic. Use emojis to keep it light. Make sure the response is concise and doesn't overwhelm them with options. Just a friendly acknowledgment and an invitation to talk more about football.\\n\"}, response_metadata={'token_usage': {'completion_tokens': 284, 'prompt_tokens': 1950, 'total_tokens': 2234, 'completion_time': 1.130092308, 'prompt_time': 0.205780506, 'queue_time': 0.061171194, 'total_time': 1.335872814}, 'model_name': 'qwen/qwen3-32b', 'system_fingerprint': 'fp_5cf921caa2', 'service_tier': 'on_demand', 'finish_reason': 'stop', 'logprobs': None}, id='run--1e31ff8e-874d-419a-aed9-c4a69ba8f1c4-0', usage_metadata={'input_tokens': 1950, 'output_tokens': 284, 'total_tokens': 2234})]}\n"
     ]
    }
   ],
   "source": [
    "for chunk in graph.stream({\"messages\": \"I also like football\"}, config=config, stream_mode = \"values\"):\n",
    "    print(chunk)"
   ]
  },
  {
   "cell_type": "markdown",
   "id": "096d232e",
   "metadata": {},
   "source": [
    "# Human in the loop"
   ]
  },
  {
   "cell_type": "code",
   "execution_count": 75,
   "id": "1ff77b4e",
   "metadata": {},
   "outputs": [
    {
     "data": {
      "text/plain": [
       "ChatGroq(client=<groq.resources.chat.completions.Completions object at 0x00000202D5832570>, async_client=<groq.resources.chat.completions.AsyncCompletions object at 0x00000202D663F4D0>, model_name='qwen/qwen3-32b', model_kwargs={}, groq_api_key=SecretStr('**********'))"
      ]
     },
     "execution_count": 75,
     "metadata": {},
     "output_type": "execute_result"
    }
   ],
   "source": [
    "import os\n",
    "from langchain.chat_models import init_chat_model\n",
    "\n",
    "llm = init_chat_model(\"groq:qwen/qwen3-32b\")\n",
    "llm"
   ]
  },
  {
   "cell_type": "code",
   "execution_count": 76,
   "id": "f499c6b4",
   "metadata": {},
   "outputs": [],
   "source": [
    "from typing import Annotated\n",
    "\n",
    "from langchain_tavily import TavilySearch\n",
    "from langchain_core.tools import tool\n",
    "from typing_extensions import TypedDict\n",
    "\n",
    "from langgraph.graph import StateGraph, START, END\n",
    "from langgraph.graph.message import add_messages\n",
    "from langgraph.checkpoint.memory import MemorySaver\n",
    "from langgraph.prebuilt import ToolNode, tools_condition\n",
    "\n",
    "from langgraph.types import Command, interrupt\n",
    "\n",
    "class State(TypedDict):\n",
    "    messages: Annotated[list, add_messages]\n",
    "\n",
    "graph_builder = StateGraph(State)\n",
    "\n",
    "@tool\n",
    "def human_assistance(query: str):\n",
    "    \"\"\" Request assistance from a human.\"\"\"\n",
    "\n",
    "    human_response = interrupt({\"query\": query})\n",
    "    return human_response\n",
    "\n",
    "tool = TavilySearch(max_results=2)\n",
    "tools = [tool, human_assistance]\n",
    "llm_with_tools = llm.bind_tools(tools)\n",
    "\n",
    "def chatbot(state: State):\n",
    "    return {\"messages\": [llm_with_tools.invoke(state[\"messages\"])]}\n",
    "\n",
    "graph_builder.add_node(\"llmchatbot\", chatbot)\n",
    "graph_builder.add_node(\"tools\", ToolNode(tools))\n",
    "\n",
    "graph_builder.add_conditional_edges(\n",
    "    \"llmchatbot\", tools_condition\n",
    ")\n",
    "\n",
    "graph_builder.add_edge(\"tools\", \"llmchatbot\")\n",
    "graph_builder.add_edge(START, \"llmchatbot\")\n",
    "\n",
    "graph = graph_builder.compile(checkpointer=MemorySaver())"
   ]
  },
  {
   "cell_type": "code",
   "execution_count": 77,
   "id": "dbc034e0",
   "metadata": {},
   "outputs": [
    {
     "data": {
      "image/png": "[encoded data removed]",
      "text/plain": [
       "<IPython.core.display.Image object>"
      ]
     },
     "metadata": {},
     "output_type": "display_data"
    }
   ],
   "source": [
    "from IPython.display import Image, display\n",
    "\n",
    "try:\n",
    "    display(Image(graph.get_graph().draw_mermaid_png()))\n",
    "except Exception:\n",
    "    pass"
   ]
  },
  {
   "cell_type": "code",
   "execution_count": 79,
   "id": "aa44580c",
   "metadata": {},
   "outputs": [
    {
     "name": "stdout",
     "output_type": "stream",
     "text": [
      "================================\u001b[1m Human Message \u001b[0m=================================\n",
      "\n",
      "I need some expert guidance and assistance for building an AI agent. Could you request assistance for me?\n",
      "==================================\u001b[1m Ai Message \u001b[0m==================================\n",
      "Tool Calls:\n",
      "  human_assistance (0411be34m)\n",
      " Call ID: 0411be34m\n",
      "  Args:\n",
      "    query: I need some expert guidance and assistance for building an AI agent. Could you request assistance for me?\n"
     ]
    }
   ],
   "source": [
    "user_input = \"I need some expert guidance and assistance for building an AI agent. Could you request assistance for me?\"\n",
    "config = {\"configurable\": {\"thread_id\": \"1\"}}\n",
    "\n",
    "events = graph.stream({\"messages\": user_input}, config=config, stream_mode=\"values\")\n",
    "\n",
    "for event in events:\n",
    "    if \"messages\" in event:\n",
    "        event[\"messages\"][-1].pretty_print()"
   ]
  },
  {
   "cell_type": "code",
   "execution_count": 80,
   "id": "409a0591",
   "metadata": {},
   "outputs": [
    {
     "name": "stdout",
     "output_type": "stream",
     "text": [
      "==================================\u001b[1m Ai Message \u001b[0m==================================\n",
      "Tool Calls:\n",
      "  human_assistance (0411be34m)\n",
      " Call ID: 0411be34m\n",
      "  Args:\n",
      "    query: I need some expert guidance and assistance for building an AI agent. Could you request assistance for me?\n",
      "=================================\u001b[1m Tool Message \u001b[0m=================================\n",
      "Name: human_assistance\n",
      "\n",
      "{\"data\": \"We, the experts are here to help! We'd recommend you check the Langgraph to build your agent.It's much more reliable and extensible than simple autonomous agents.\"}\n",
      "==================================\u001b[1m Ai Message \u001b[0m==================================\n",
      "\n",
      "The experts recommend exploring **Langgraph** for building your AI agent. Langgraph is a framework designed for creating **reliable and extensible** agents, offering advantages over simpler autonomous agent implementations. It provides structured workflows, better modularity, and advanced capabilities for handling complex tasks.\n",
      "\n",
      "Would you like guidance on how to get started with Langgraph, or help understanding its features? 🚀\n"
     ]
    }
   ],
   "source": [
    "human_response = (\n",
    "    \"We, the experts are here to help! We'd recommend you check the Langgraph to build your agent.\"\n",
    "    \"It's much more reliable and extensible than simple autonomous agents.\"\n",
    ")\n",
    "\n",
    "human_command = Command(resume= {\"data\": human_response})\n",
    "\n",
    "events = graph.stream(human_command, config=config, stream_mode=\"values\")\n",
    "\n",
    "for event in events:\n",
    "    if \"messages\" in event:\n",
    "        event[\"messages\"][-1].pretty_print()"
   ]
  },
  {
   "cell_type": "code",
   "execution_count": null,
   "id": "ea00bdbc",
   "metadata": {},
   "outputs": [],
   "source": []
  }
 ],
 "metadata": {
  "kernelspec": {
   "display_name": "AgenticLanggraph",
   "language": "python",
   "name": "python3"
  },
  "language_info": {
   "codemirror_mode": {
    "name": "ipython",
    "version": 3
   },
   "file_extension": ".py",
   "mimetype": "text/x-python",
   "name": "python",
   "nbconvert_exporter": "python",
   "pygments_lexer": "ipython3",
   "version": "3.12.7"
  }
 },
 "nbformat": 4,
 "nbformat_minor": 5
}
